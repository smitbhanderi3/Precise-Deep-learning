{
 "cells": [
  {
   "cell_type": "code",
   "execution_count": 13,
   "id": "a5fca1f0",
   "metadata": {},
   "outputs": [],
   "source": [
    "import numpy as np\n",
    "import pandas as pd\n",
    "from sklearn.preprocessing import StandardScaler\n",
    "import tensorflow\n",
    "from  tensorflow import keras\n",
    "from tensorflow.keras import Sequential\n",
    "from tensorflow.keras.layers import Dense,Flatten,Dropout"
   ]
  },
  {
   "cell_type": "code",
   "execution_count": 3,
   "id": "10824fde",
   "metadata": {},
   "outputs": [],
   "source": [
    "df = pd.read_csv(\"data/diabetes.csv\")"
   ]
  },
  {
   "cell_type": "code",
   "execution_count": 4,
   "id": "c6e846da",
   "metadata": {},
   "outputs": [
    {
     "data": {
      "text/html": [
       "<div>\n",
       "<style scoped>\n",
       "    .dataframe tbody tr th:only-of-type {\n",
       "        vertical-align: middle;\n",
       "    }\n",
       "\n",
       "    .dataframe tbody tr th {\n",
       "        vertical-align: top;\n",
       "    }\n",
       "\n",
       "    .dataframe thead th {\n",
       "        text-align: right;\n",
       "    }\n",
       "</style>\n",
       "<table border=\"1\" class=\"dataframe\">\n",
       "  <thead>\n",
       "    <tr style=\"text-align: right;\">\n",
       "      <th></th>\n",
       "      <th>Pregnancies</th>\n",
       "      <th>Glucose</th>\n",
       "      <th>BloodPressure</th>\n",
       "      <th>SkinThickness</th>\n",
       "      <th>Insulin</th>\n",
       "      <th>BMI</th>\n",
       "      <th>DiabetesPedigreeFunction</th>\n",
       "      <th>Age</th>\n",
       "      <th>Outcome</th>\n",
       "    </tr>\n",
       "  </thead>\n",
       "  <tbody>\n",
       "    <tr>\n",
       "      <th>0</th>\n",
       "      <td>6</td>\n",
       "      <td>148</td>\n",
       "      <td>72</td>\n",
       "      <td>35</td>\n",
       "      <td>0</td>\n",
       "      <td>33.6</td>\n",
       "      <td>0.627</td>\n",
       "      <td>50</td>\n",
       "      <td>1</td>\n",
       "    </tr>\n",
       "    <tr>\n",
       "      <th>1</th>\n",
       "      <td>1</td>\n",
       "      <td>85</td>\n",
       "      <td>66</td>\n",
       "      <td>29</td>\n",
       "      <td>0</td>\n",
       "      <td>26.6</td>\n",
       "      <td>0.351</td>\n",
       "      <td>31</td>\n",
       "      <td>0</td>\n",
       "    </tr>\n",
       "    <tr>\n",
       "      <th>2</th>\n",
       "      <td>8</td>\n",
       "      <td>183</td>\n",
       "      <td>64</td>\n",
       "      <td>0</td>\n",
       "      <td>0</td>\n",
       "      <td>23.3</td>\n",
       "      <td>0.672</td>\n",
       "      <td>32</td>\n",
       "      <td>1</td>\n",
       "    </tr>\n",
       "    <tr>\n",
       "      <th>3</th>\n",
       "      <td>1</td>\n",
       "      <td>89</td>\n",
       "      <td>66</td>\n",
       "      <td>23</td>\n",
       "      <td>94</td>\n",
       "      <td>28.1</td>\n",
       "      <td>0.167</td>\n",
       "      <td>21</td>\n",
       "      <td>0</td>\n",
       "    </tr>\n",
       "    <tr>\n",
       "      <th>4</th>\n",
       "      <td>0</td>\n",
       "      <td>137</td>\n",
       "      <td>40</td>\n",
       "      <td>35</td>\n",
       "      <td>168</td>\n",
       "      <td>43.1</td>\n",
       "      <td>2.288</td>\n",
       "      <td>33</td>\n",
       "      <td>1</td>\n",
       "    </tr>\n",
       "    <tr>\n",
       "      <th>...</th>\n",
       "      <td>...</td>\n",
       "      <td>...</td>\n",
       "      <td>...</td>\n",
       "      <td>...</td>\n",
       "      <td>...</td>\n",
       "      <td>...</td>\n",
       "      <td>...</td>\n",
       "      <td>...</td>\n",
       "      <td>...</td>\n",
       "    </tr>\n",
       "    <tr>\n",
       "      <th>763</th>\n",
       "      <td>10</td>\n",
       "      <td>101</td>\n",
       "      <td>76</td>\n",
       "      <td>48</td>\n",
       "      <td>180</td>\n",
       "      <td>32.9</td>\n",
       "      <td>0.171</td>\n",
       "      <td>63</td>\n",
       "      <td>0</td>\n",
       "    </tr>\n",
       "    <tr>\n",
       "      <th>764</th>\n",
       "      <td>2</td>\n",
       "      <td>122</td>\n",
       "      <td>70</td>\n",
       "      <td>27</td>\n",
       "      <td>0</td>\n",
       "      <td>36.8</td>\n",
       "      <td>0.340</td>\n",
       "      <td>27</td>\n",
       "      <td>0</td>\n",
       "    </tr>\n",
       "    <tr>\n",
       "      <th>765</th>\n",
       "      <td>5</td>\n",
       "      <td>121</td>\n",
       "      <td>72</td>\n",
       "      <td>23</td>\n",
       "      <td>112</td>\n",
       "      <td>26.2</td>\n",
       "      <td>0.245</td>\n",
       "      <td>30</td>\n",
       "      <td>0</td>\n",
       "    </tr>\n",
       "    <tr>\n",
       "      <th>766</th>\n",
       "      <td>1</td>\n",
       "      <td>126</td>\n",
       "      <td>60</td>\n",
       "      <td>0</td>\n",
       "      <td>0</td>\n",
       "      <td>30.1</td>\n",
       "      <td>0.349</td>\n",
       "      <td>47</td>\n",
       "      <td>1</td>\n",
       "    </tr>\n",
       "    <tr>\n",
       "      <th>767</th>\n",
       "      <td>1</td>\n",
       "      <td>93</td>\n",
       "      <td>70</td>\n",
       "      <td>31</td>\n",
       "      <td>0</td>\n",
       "      <td>30.4</td>\n",
       "      <td>0.315</td>\n",
       "      <td>23</td>\n",
       "      <td>0</td>\n",
       "    </tr>\n",
       "  </tbody>\n",
       "</table>\n",
       "<p>768 rows × 9 columns</p>\n",
       "</div>"
      ],
      "text/plain": [
       "     Pregnancies  Glucose  BloodPressure  SkinThickness  Insulin   BMI  DiabetesPedigreeFunction  Age  Outcome\n",
       "0              6      148             72             35        0  33.6                     0.627   50        1\n",
       "1              1       85             66             29        0  26.6                     0.351   31        0\n",
       "2              8      183             64              0        0  23.3                     0.672   32        1\n",
       "3              1       89             66             23       94  28.1                     0.167   21        0\n",
       "4              0      137             40             35      168  43.1                     2.288   33        1\n",
       "..           ...      ...            ...            ...      ...   ...                       ...  ...      ...\n",
       "763           10      101             76             48      180  32.9                     0.171   63        0\n",
       "764            2      122             70             27        0  36.8                     0.340   27        0\n",
       "765            5      121             72             23      112  26.2                     0.245   30        0\n",
       "766            1      126             60              0        0  30.1                     0.349   47        1\n",
       "767            1       93             70             31        0  30.4                     0.315   23        0\n",
       "\n",
       "[768 rows x 9 columns]"
      ]
     },
     "execution_count": 4,
     "metadata": {},
     "output_type": "execute_result"
    }
   ],
   "source": [
    "df"
   ]
  },
  {
   "cell_type": "code",
   "execution_count": 6,
   "id": "5ca1311b",
   "metadata": {},
   "outputs": [
    {
     "data": {
      "text/plain": [
       "Pregnancies                 0.221898\n",
       "Glucose                     0.466581\n",
       "BloodPressure               0.065068\n",
       "SkinThickness               0.074752\n",
       "Insulin                     0.130548\n",
       "BMI                         0.292695\n",
       "DiabetesPedigreeFunction    0.173844\n",
       "Age                         0.238356\n",
       "Outcome                     1.000000\n",
       "Name: Outcome, dtype: float64"
      ]
     },
     "execution_count": 6,
     "metadata": {},
     "output_type": "execute_result"
    }
   ],
   "source": [
    "df.corr()[\"Outcome\"]"
   ]
  },
  {
   "cell_type": "code",
   "execution_count": 9,
   "id": "de313045",
   "metadata": {},
   "outputs": [],
   "source": [
    "X = df.iloc[:,:-1].values\n",
    "y = df.iloc[:,-1].values"
   ]
  },
  {
   "cell_type": "code",
   "execution_count": 12,
   "id": "2333e4da",
   "metadata": {},
   "outputs": [
    {
     "data": {
      "text/plain": [
       "array([[  6.   , 148.   ,  72.   , ...,  33.6  ,   0.627,  50.   ],\n",
       "       [  1.   ,  85.   ,  66.   , ...,  26.6  ,   0.351,  31.   ],\n",
       "       [  8.   , 183.   ,  64.   , ...,  23.3  ,   0.672,  32.   ],\n",
       "       ...,\n",
       "       [  5.   , 121.   ,  72.   , ...,  26.2  ,   0.245,  30.   ],\n",
       "       [  1.   , 126.   ,  60.   , ...,  30.1  ,   0.349,  47.   ],\n",
       "       [  1.   ,  93.   ,  70.   , ...,  30.4  ,   0.315,  23.   ]])"
      ]
     },
     "execution_count": 12,
     "metadata": {},
     "output_type": "execute_result"
    }
   ],
   "source": [
    "X"
   ]
  },
  {
   "cell_type": "code",
   "execution_count": 14,
   "id": "a7d08eef",
   "metadata": {},
   "outputs": [],
   "source": [
    "from sklearn.preprocessing import StandardScaler\n",
    "scaler = StandardScaler()"
   ]
  },
  {
   "cell_type": "code",
   "execution_count": 15,
   "id": "bf60aafd",
   "metadata": {},
   "outputs": [],
   "source": [
    "X= scaler.fit_transform(X)"
   ]
  },
  {
   "cell_type": "code",
   "execution_count": 17,
   "id": "8daa05e2",
   "metadata": {},
   "outputs": [
    {
     "data": {
      "text/plain": [
       "(768, 8)"
      ]
     },
     "execution_count": 17,
     "metadata": {},
     "output_type": "execute_result"
    }
   ],
   "source": [
    "X.shape"
   ]
  },
  {
   "cell_type": "code",
   "execution_count": 19,
   "id": "1a7d959e",
   "metadata": {},
   "outputs": [],
   "source": [
    "from sklearn.model_selection import train_test_split\n",
    "X_train,X_test,y_train,y_test = train_test_split(X,y,test_size=0.2,random_state=1)\n",
    "\n"
   ]
  },
  {
   "cell_type": "code",
   "execution_count": 21,
   "id": "e654ffb2",
   "metadata": {},
   "outputs": [],
   "source": [
    "# Creat model :\n",
    "model = Sequential()\n",
    "\n",
    "model.add(Dense(32,activation=\"relu\",input_dim=8))\n",
    "model.add(Dense(1,activation=\"sigmoid\"))\n",
    "\n",
    "model.compile(optimizer=\"adam\",loss=\"binary_crossentropy\",metrics=[\"accuracy\"])"
   ]
  },
  {
   "cell_type": "code",
   "execution_count": 24,
   "id": "1e7f92fd",
   "metadata": {},
   "outputs": [
    {
     "name": "stdout",
     "output_type": "stream",
     "text": [
      "Epoch 1/100\n",
      "20/20 [==============================] - 0s 3ms/step - loss: 0.4411 - accuracy: 0.7866 - val_loss: 0.4565 - val_accuracy: 0.7857\n",
      "Epoch 2/100\n",
      "20/20 [==============================] - 0s 2ms/step - loss: 0.4413 - accuracy: 0.7866 - val_loss: 0.4572 - val_accuracy: 0.7922\n",
      "Epoch 3/100\n",
      "20/20 [==============================] - 0s 2ms/step - loss: 0.4399 - accuracy: 0.7883 - val_loss: 0.4578 - val_accuracy: 0.7857\n",
      "Epoch 4/100\n",
      "20/20 [==============================] - 0s 2ms/step - loss: 0.4393 - accuracy: 0.7883 - val_loss: 0.4580 - val_accuracy: 0.7922\n",
      "Epoch 5/100\n",
      "20/20 [==============================] - 0s 2ms/step - loss: 0.4393 - accuracy: 0.7899 - val_loss: 0.4585 - val_accuracy: 0.7987\n",
      "Epoch 6/100\n",
      "20/20 [==============================] - 0s 2ms/step - loss: 0.4382 - accuracy: 0.7899 - val_loss: 0.4600 - val_accuracy: 0.7922\n",
      "Epoch 7/100\n",
      "20/20 [==============================] - 0s 2ms/step - loss: 0.4383 - accuracy: 0.7915 - val_loss: 0.4608 - val_accuracy: 0.7987\n",
      "Epoch 8/100\n",
      "20/20 [==============================] - 0s 3ms/step - loss: 0.4373 - accuracy: 0.7899 - val_loss: 0.4609 - val_accuracy: 0.7987\n",
      "Epoch 9/100\n",
      "20/20 [==============================] - 0s 2ms/step - loss: 0.4369 - accuracy: 0.7850 - val_loss: 0.4615 - val_accuracy: 0.8052\n",
      "Epoch 10/100\n",
      "20/20 [==============================] - 0s 2ms/step - loss: 0.4367 - accuracy: 0.7899 - val_loss: 0.4604 - val_accuracy: 0.7987\n",
      "Epoch 11/100\n",
      "20/20 [==============================] - 0s 2ms/step - loss: 0.4363 - accuracy: 0.7932 - val_loss: 0.4610 - val_accuracy: 0.7987\n",
      "Epoch 12/100\n",
      "20/20 [==============================] - 0s 2ms/step - loss: 0.4355 - accuracy: 0.7883 - val_loss: 0.4607 - val_accuracy: 0.7987\n",
      "Epoch 13/100\n",
      "20/20 [==============================] - 0s 2ms/step - loss: 0.4356 - accuracy: 0.7899 - val_loss: 0.4613 - val_accuracy: 0.8117\n",
      "Epoch 14/100\n",
      "20/20 [==============================] - 0s 2ms/step - loss: 0.4345 - accuracy: 0.7899 - val_loss: 0.4604 - val_accuracy: 0.7987\n",
      "Epoch 15/100\n",
      "20/20 [==============================] - 0s 2ms/step - loss: 0.4344 - accuracy: 0.7866 - val_loss: 0.4616 - val_accuracy: 0.7987\n",
      "Epoch 16/100\n",
      "20/20 [==============================] - 0s 2ms/step - loss: 0.4340 - accuracy: 0.7866 - val_loss: 0.4612 - val_accuracy: 0.7987\n",
      "Epoch 17/100\n",
      "20/20 [==============================] - 0s 2ms/step - loss: 0.4334 - accuracy: 0.7915 - val_loss: 0.4619 - val_accuracy: 0.8052\n",
      "Epoch 18/100\n",
      "20/20 [==============================] - 0s 2ms/step - loss: 0.4330 - accuracy: 0.7948 - val_loss: 0.4619 - val_accuracy: 0.8052\n",
      "Epoch 19/100\n",
      "20/20 [==============================] - 0s 2ms/step - loss: 0.4329 - accuracy: 0.7948 - val_loss: 0.4621 - val_accuracy: 0.8052\n",
      "Epoch 20/100\n",
      "20/20 [==============================] - 0s 2ms/step - loss: 0.4323 - accuracy: 0.7948 - val_loss: 0.4623 - val_accuracy: 0.8052\n",
      "Epoch 21/100\n",
      "20/20 [==============================] - 0s 2ms/step - loss: 0.4326 - accuracy: 0.7932 - val_loss: 0.4631 - val_accuracy: 0.8117\n",
      "Epoch 22/100\n",
      "20/20 [==============================] - 0s 2ms/step - loss: 0.4313 - accuracy: 0.7948 - val_loss: 0.4628 - val_accuracy: 0.8117\n",
      "Epoch 23/100\n",
      "20/20 [==============================] - 0s 2ms/step - loss: 0.4312 - accuracy: 0.7932 - val_loss: 0.4627 - val_accuracy: 0.8117\n",
      "Epoch 24/100\n",
      "20/20 [==============================] - 0s 2ms/step - loss: 0.4312 - accuracy: 0.7948 - val_loss: 0.4620 - val_accuracy: 0.8182\n",
      "Epoch 25/100\n",
      "20/20 [==============================] - 0s 2ms/step - loss: 0.4303 - accuracy: 0.7964 - val_loss: 0.4629 - val_accuracy: 0.8052\n",
      "Epoch 26/100\n",
      "20/20 [==============================] - 0s 2ms/step - loss: 0.4301 - accuracy: 0.7948 - val_loss: 0.4633 - val_accuracy: 0.7987\n",
      "Epoch 27/100\n",
      "20/20 [==============================] - 0s 2ms/step - loss: 0.4295 - accuracy: 0.7948 - val_loss: 0.4634 - val_accuracy: 0.7987\n",
      "Epoch 28/100\n",
      "20/20 [==============================] - 0s 2ms/step - loss: 0.4297 - accuracy: 0.7932 - val_loss: 0.4634 - val_accuracy: 0.8052\n",
      "Epoch 29/100\n",
      "20/20 [==============================] - 0s 2ms/step - loss: 0.4288 - accuracy: 0.7932 - val_loss: 0.4636 - val_accuracy: 0.7922\n",
      "Epoch 30/100\n",
      "20/20 [==============================] - 0s 2ms/step - loss: 0.4290 - accuracy: 0.7948 - val_loss: 0.4633 - val_accuracy: 0.7922\n",
      "Epoch 31/100\n",
      "20/20 [==============================] - 0s 2ms/step - loss: 0.4282 - accuracy: 0.7964 - val_loss: 0.4629 - val_accuracy: 0.7922\n",
      "Epoch 32/100\n",
      "20/20 [==============================] - 0s 2ms/step - loss: 0.4283 - accuracy: 0.7964 - val_loss: 0.4632 - val_accuracy: 0.7922\n",
      "Epoch 33/100\n",
      "20/20 [==============================] - 0s 2ms/step - loss: 0.4275 - accuracy: 0.7948 - val_loss: 0.4632 - val_accuracy: 0.7857\n",
      "Epoch 34/100\n",
      "20/20 [==============================] - 0s 2ms/step - loss: 0.4275 - accuracy: 0.7932 - val_loss: 0.4641 - val_accuracy: 0.7922\n",
      "Epoch 35/100\n",
      "20/20 [==============================] - 0s 2ms/step - loss: 0.4272 - accuracy: 0.7948 - val_loss: 0.4645 - val_accuracy: 0.8052\n",
      "Epoch 36/100\n",
      "20/20 [==============================] - 0s 2ms/step - loss: 0.4266 - accuracy: 0.7948 - val_loss: 0.4644 - val_accuracy: 0.8052\n",
      "Epoch 37/100\n",
      "20/20 [==============================] - 0s 2ms/step - loss: 0.4266 - accuracy: 0.7980 - val_loss: 0.4643 - val_accuracy: 0.8052\n",
      "Epoch 38/100\n",
      "20/20 [==============================] - 0s 2ms/step - loss: 0.4261 - accuracy: 0.7932 - val_loss: 0.4637 - val_accuracy: 0.8052\n",
      "Epoch 39/100\n",
      "20/20 [==============================] - 0s 2ms/step - loss: 0.4257 - accuracy: 0.7948 - val_loss: 0.4645 - val_accuracy: 0.7987\n",
      "Epoch 40/100\n",
      "20/20 [==============================] - 0s 2ms/step - loss: 0.4249 - accuracy: 0.7980 - val_loss: 0.4632 - val_accuracy: 0.8052\n",
      "Epoch 41/100\n",
      "20/20 [==============================] - 0s 2ms/step - loss: 0.4255 - accuracy: 0.7964 - val_loss: 0.4634 - val_accuracy: 0.8312\n",
      "Epoch 42/100\n",
      "20/20 [==============================] - 0s 2ms/step - loss: 0.4246 - accuracy: 0.7964 - val_loss: 0.4631 - val_accuracy: 0.8247\n",
      "Epoch 43/100\n",
      "20/20 [==============================] - 0s 2ms/step - loss: 0.4239 - accuracy: 0.7980 - val_loss: 0.4648 - val_accuracy: 0.8182\n",
      "Epoch 44/100\n",
      "20/20 [==============================] - 0s 2ms/step - loss: 0.4239 - accuracy: 0.7997 - val_loss: 0.4645 - val_accuracy: 0.8117\n",
      "Epoch 45/100\n",
      "20/20 [==============================] - 0s 2ms/step - loss: 0.4236 - accuracy: 0.7997 - val_loss: 0.4664 - val_accuracy: 0.8182\n",
      "Epoch 46/100\n",
      "20/20 [==============================] - 0s 2ms/step - loss: 0.4230 - accuracy: 0.8013 - val_loss: 0.4665 - val_accuracy: 0.8052\n",
      "Epoch 47/100\n",
      "20/20 [==============================] - 0s 2ms/step - loss: 0.4225 - accuracy: 0.8013 - val_loss: 0.4655 - val_accuracy: 0.8117\n",
      "Epoch 48/100\n",
      "20/20 [==============================] - 0s 2ms/step - loss: 0.4222 - accuracy: 0.8013 - val_loss: 0.4669 - val_accuracy: 0.8182\n",
      "Epoch 49/100\n",
      "20/20 [==============================] - 0s 2ms/step - loss: 0.4219 - accuracy: 0.7997 - val_loss: 0.4667 - val_accuracy: 0.8117\n",
      "Epoch 50/100\n",
      "20/20 [==============================] - 0s 2ms/step - loss: 0.4217 - accuracy: 0.7997 - val_loss: 0.4666 - val_accuracy: 0.8117\n",
      "Epoch 51/100\n",
      "20/20 [==============================] - 0s 2ms/step - loss: 0.4212 - accuracy: 0.7964 - val_loss: 0.4667 - val_accuracy: 0.8182\n",
      "Epoch 52/100\n",
      "20/20 [==============================] - 0s 2ms/step - loss: 0.4209 - accuracy: 0.7964 - val_loss: 0.4679 - val_accuracy: 0.8182\n",
      "Epoch 53/100\n",
      "20/20 [==============================] - 0s 2ms/step - loss: 0.4210 - accuracy: 0.7980 - val_loss: 0.4689 - val_accuracy: 0.8117\n",
      "Epoch 54/100\n",
      "20/20 [==============================] - 0s 2ms/step - loss: 0.4204 - accuracy: 0.7980 - val_loss: 0.4691 - val_accuracy: 0.8117\n",
      "Epoch 55/100\n",
      "20/20 [==============================] - 0s 2ms/step - loss: 0.4193 - accuracy: 0.8062 - val_loss: 0.4689 - val_accuracy: 0.8117\n",
      "Epoch 56/100\n",
      "20/20 [==============================] - 0s 2ms/step - loss: 0.4203 - accuracy: 0.7980 - val_loss: 0.4686 - val_accuracy: 0.8117\n",
      "Epoch 57/100\n",
      "20/20 [==============================] - 0s 2ms/step - loss: 0.4193 - accuracy: 0.8029 - val_loss: 0.4688 - val_accuracy: 0.8117\n",
      "Epoch 58/100\n",
      "20/20 [==============================] - 0s 2ms/step - loss: 0.4191 - accuracy: 0.8013 - val_loss: 0.4694 - val_accuracy: 0.8117\n"
     ]
    },
    {
     "name": "stdout",
     "output_type": "stream",
     "text": [
      "Epoch 59/100\n",
      "20/20 [==============================] - 0s 2ms/step - loss: 0.4186 - accuracy: 0.8013 - val_loss: 0.4696 - val_accuracy: 0.8117\n",
      "Epoch 60/100\n",
      "20/20 [==============================] - 0s 2ms/step - loss: 0.4188 - accuracy: 0.8078 - val_loss: 0.4682 - val_accuracy: 0.8182\n",
      "Epoch 61/100\n",
      "20/20 [==============================] - 0s 2ms/step - loss: 0.4181 - accuracy: 0.8062 - val_loss: 0.4681 - val_accuracy: 0.8117\n",
      "Epoch 62/100\n",
      "20/20 [==============================] - 0s 2ms/step - loss: 0.4179 - accuracy: 0.8046 - val_loss: 0.4676 - val_accuracy: 0.8117\n",
      "Epoch 63/100\n",
      "20/20 [==============================] - 0s 2ms/step - loss: 0.4177 - accuracy: 0.8046 - val_loss: 0.4656 - val_accuracy: 0.8052\n",
      "Epoch 64/100\n",
      "20/20 [==============================] - 0s 2ms/step - loss: 0.4174 - accuracy: 0.8046 - val_loss: 0.4669 - val_accuracy: 0.8052\n",
      "Epoch 65/100\n",
      "20/20 [==============================] - 0s 2ms/step - loss: 0.4173 - accuracy: 0.7997 - val_loss: 0.4666 - val_accuracy: 0.8182\n",
      "Epoch 66/100\n",
      "20/20 [==============================] - 0s 2ms/step - loss: 0.4166 - accuracy: 0.8029 - val_loss: 0.4670 - val_accuracy: 0.8182\n",
      "Epoch 67/100\n",
      "20/20 [==============================] - 0s 2ms/step - loss: 0.4167 - accuracy: 0.8029 - val_loss: 0.4681 - val_accuracy: 0.8182\n",
      "Epoch 68/100\n",
      "20/20 [==============================] - 0s 2ms/step - loss: 0.4162 - accuracy: 0.8078 - val_loss: 0.4678 - val_accuracy: 0.8117\n",
      "Epoch 69/100\n",
      "20/20 [==============================] - 0s 2ms/step - loss: 0.4161 - accuracy: 0.8046 - val_loss: 0.4677 - val_accuracy: 0.8052\n",
      "Epoch 70/100\n",
      "20/20 [==============================] - 0s 2ms/step - loss: 0.4159 - accuracy: 0.8111 - val_loss: 0.4689 - val_accuracy: 0.7987\n",
      "Epoch 71/100\n",
      "20/20 [==============================] - 0s 2ms/step - loss: 0.4155 - accuracy: 0.8111 - val_loss: 0.4693 - val_accuracy: 0.7987\n",
      "Epoch 72/100\n",
      "20/20 [==============================] - 0s 2ms/step - loss: 0.4154 - accuracy: 0.8046 - val_loss: 0.4712 - val_accuracy: 0.7987\n",
      "Epoch 73/100\n",
      "20/20 [==============================] - 0s 2ms/step - loss: 0.4148 - accuracy: 0.8127 - val_loss: 0.4684 - val_accuracy: 0.8052\n",
      "Epoch 74/100\n",
      "20/20 [==============================] - 0s 2ms/step - loss: 0.4146 - accuracy: 0.8094 - val_loss: 0.4689 - val_accuracy: 0.8052\n",
      "Epoch 75/100\n",
      "20/20 [==============================] - 0s 2ms/step - loss: 0.4139 - accuracy: 0.8127 - val_loss: 0.4703 - val_accuracy: 0.8052\n",
      "Epoch 76/100\n",
      "20/20 [==============================] - 0s 2ms/step - loss: 0.4140 - accuracy: 0.8127 - val_loss: 0.4714 - val_accuracy: 0.8052\n",
      "Epoch 77/100\n",
      "20/20 [==============================] - 0s 2ms/step - loss: 0.4137 - accuracy: 0.8160 - val_loss: 0.4687 - val_accuracy: 0.8117\n",
      "Epoch 78/100\n",
      "20/20 [==============================] - 0s 2ms/step - loss: 0.4135 - accuracy: 0.8078 - val_loss: 0.4687 - val_accuracy: 0.8117\n",
      "Epoch 79/100\n",
      "20/20 [==============================] - 0s 2ms/step - loss: 0.4132 - accuracy: 0.8111 - val_loss: 0.4686 - val_accuracy: 0.7987\n",
      "Epoch 80/100\n",
      "20/20 [==============================] - 0s 2ms/step - loss: 0.4134 - accuracy: 0.8127 - val_loss: 0.4704 - val_accuracy: 0.8052\n",
      "Epoch 81/100\n",
      "20/20 [==============================] - 0s 2ms/step - loss: 0.4127 - accuracy: 0.8143 - val_loss: 0.4710 - val_accuracy: 0.8052\n",
      "Epoch 82/100\n",
      "20/20 [==============================] - 0s 2ms/step - loss: 0.4126 - accuracy: 0.8127 - val_loss: 0.4714 - val_accuracy: 0.8052\n",
      "Epoch 83/100\n",
      "20/20 [==============================] - 0s 2ms/step - loss: 0.4125 - accuracy: 0.8094 - val_loss: 0.4722 - val_accuracy: 0.7987\n",
      "Epoch 84/100\n",
      "20/20 [==============================] - 0s 2ms/step - loss: 0.4118 - accuracy: 0.8062 - val_loss: 0.4707 - val_accuracy: 0.8052\n",
      "Epoch 85/100\n",
      "20/20 [==============================] - 0s 2ms/step - loss: 0.4120 - accuracy: 0.8111 - val_loss: 0.4702 - val_accuracy: 0.7987\n",
      "Epoch 86/100\n",
      "20/20 [==============================] - 0s 2ms/step - loss: 0.4113 - accuracy: 0.8111 - val_loss: 0.4700 - val_accuracy: 0.7987\n",
      "Epoch 87/100\n",
      "20/20 [==============================] - 0s 2ms/step - loss: 0.4113 - accuracy: 0.8078 - val_loss: 0.4730 - val_accuracy: 0.7987\n",
      "Epoch 88/100\n",
      "20/20 [==============================] - 0s 2ms/step - loss: 0.4117 - accuracy: 0.8127 - val_loss: 0.4730 - val_accuracy: 0.8052\n",
      "Epoch 89/100\n",
      "20/20 [==============================] - 0s 2ms/step - loss: 0.4107 - accuracy: 0.8143 - val_loss: 0.4720 - val_accuracy: 0.8052\n",
      "Epoch 90/100\n",
      "20/20 [==============================] - 0s 2ms/step - loss: 0.4112 - accuracy: 0.8094 - val_loss: 0.4715 - val_accuracy: 0.8052\n",
      "Epoch 91/100\n",
      "20/20 [==============================] - 0s 2ms/step - loss: 0.4106 - accuracy: 0.8094 - val_loss: 0.4700 - val_accuracy: 0.7922\n",
      "Epoch 92/100\n",
      "20/20 [==============================] - 0s 2ms/step - loss: 0.4103 - accuracy: 0.8078 - val_loss: 0.4711 - val_accuracy: 0.7987\n",
      "Epoch 93/100\n",
      "20/20 [==============================] - 0s 2ms/step - loss: 0.4098 - accuracy: 0.8176 - val_loss: 0.4716 - val_accuracy: 0.8052\n",
      "Epoch 94/100\n",
      "20/20 [==============================] - 0s 2ms/step - loss: 0.4098 - accuracy: 0.8192 - val_loss: 0.4708 - val_accuracy: 0.8052\n",
      "Epoch 95/100\n",
      "20/20 [==============================] - 0s 2ms/step - loss: 0.4089 - accuracy: 0.8176 - val_loss: 0.4695 - val_accuracy: 0.8052\n",
      "Epoch 96/100\n",
      "20/20 [==============================] - 0s 2ms/step - loss: 0.4090 - accuracy: 0.8111 - val_loss: 0.4704 - val_accuracy: 0.8052\n",
      "Epoch 97/100\n",
      "20/20 [==============================] - 0s 2ms/step - loss: 0.4088 - accuracy: 0.8127 - val_loss: 0.4717 - val_accuracy: 0.8052\n",
      "Epoch 98/100\n",
      "20/20 [==============================] - 0s 2ms/step - loss: 0.4086 - accuracy: 0.8143 - val_loss: 0.4697 - val_accuracy: 0.8052\n",
      "Epoch 99/100\n",
      "20/20 [==============================] - 0s 2ms/step - loss: 0.4078 - accuracy: 0.8143 - val_loss: 0.4711 - val_accuracy: 0.8052\n",
      "Epoch 100/100\n",
      "20/20 [==============================] - 0s 2ms/step - loss: 0.4082 - accuracy: 0.8208 - val_loss: 0.4704 - val_accuracy: 0.8052\n"
     ]
    },
    {
     "data": {
      "text/plain": [
       "<keras.callbacks.History at 0x1caa5f30a60>"
      ]
     },
     "execution_count": 24,
     "metadata": {},
     "output_type": "execute_result"
    }
   ],
   "source": [
    "model.fit(X_train,y_train,batch_size=32,epochs=100,validation_data=(X_test,y_test))"
   ]
  },
  {
   "cell_type": "markdown",
   "id": "ca8237c3",
   "metadata": {},
   "source": [
    "## 1) How to selcet apporiate optimizer.\n",
    "## 2) No, of nodes in a layer\n",
    "## 3) How to select no. of layes\n",
    "## 4) Make All in all one model\n"
   ]
  },
  {
   "cell_type": "markdown",
   "id": "afd8021e",
   "metadata": {},
   "source": [
    "# 1) Keras .tuner find best optimizer ."
   ]
  },
  {
   "cell_type": "code",
   "execution_count": 27,
   "id": "f3081631",
   "metadata": {},
   "outputs": [
    {
     "name": "stdout",
     "output_type": "stream",
     "text": [
      "Collecting keras-tuner\n",
      "  Downloading keras_tuner-1.3.5-py3-none-any.whl (176 kB)\n",
      "     ------------------------------------ 176.1/176.1 kB 558.5 kB/s eta 0:00:00\n",
      "Requirement already satisfied: packaging in c:\\users\\smit\\anaconda3\\lib\\site-packages (from keras-tuner) (21.3)\n",
      "Requirement already satisfied: requests in c:\\users\\smit\\anaconda3\\lib\\site-packages (from keras-tuner) (2.27.1)\n",
      "Collecting kt-legacy (from keras-tuner)\n",
      "  Downloading kt_legacy-1.0.5-py3-none-any.whl (9.6 kB)\n",
      "Requirement already satisfied: pyparsing!=3.0.5,>=2.0.2 in c:\\users\\smit\\anaconda3\\lib\\site-packages (from packaging->keras-tuner) (3.0.4)\n",
      "Requirement already satisfied: urllib3<1.27,>=1.21.1 in c:\\users\\smit\\anaconda3\\lib\\site-packages (from requests->keras-tuner) (1.26.9)\n",
      "Requirement already satisfied: certifi>=2017.4.17 in c:\\users\\smit\\anaconda3\\lib\\site-packages (from requests->keras-tuner) (2023.5.7)\n",
      "Requirement already satisfied: charset-normalizer~=2.0.0 in c:\\users\\smit\\anaconda3\\lib\\site-packages (from requests->keras-tuner) (2.0.4)\n",
      "Requirement already satisfied: idna<4,>=2.5 in c:\\users\\smit\\anaconda3\\lib\\site-packages (from requests->keras-tuner) (3.3)\n",
      "Installing collected packages: kt-legacy, keras-tuner\n",
      "Successfully installed keras-tuner-1.3.5 kt-legacy-1.0.5\n",
      "Note: you may need to restart the kernel to use updated packages.\n"
     ]
    }
   ],
   "source": [
    "#pip install keras-tuner --upgrade\n"
   ]
  },
  {
   "cell_type": "code",
   "execution_count": 30,
   "id": "a55ff4e5",
   "metadata": {},
   "outputs": [],
   "source": [
    "import keras_tuner as kt"
   ]
  },
  {
   "cell_type": "code",
   "execution_count": 31,
   "id": "4f896fa7",
   "metadata": {},
   "outputs": [],
   "source": [
    "#total number of Optimizer you can choose:\n",
    "# SGD\n",
    "# RMSprop\n",
    "# Adam\n",
    "# AdamW\n",
    "# Adadelta\n",
    "# Adagrad\n",
    "# Adamax\n",
    "# Adafactor\n",
    "# Nadam\n",
    "# Ftrl"
   ]
  },
  {
   "cell_type": "code",
   "execution_count": 34,
   "id": "ba8ff08a",
   "metadata": {},
   "outputs": [],
   "source": [
    "def build_model(hp):\n",
    "    \n",
    "    model=Sequential()\n",
    "    \n",
    "    model.add(Dense(32,activation=\"relu\",input_dim=8))\n",
    "    model.add(Dense(1,activation=\"sigmoid\"))\n",
    "    \n",
    "    optimizer = hp.Choice(\"optimizer\",values = [\"adam\",\"sgd\",\"rmsprop\",\"adadelta\"])  \n",
    "    \n",
    "    model.compile(optimizer=optimizer,loss=\"binary_crossentropy\",metrics=[\"accuracy\"])\n",
    "    \n",
    "    return model    "
   ]
  },
  {
   "cell_type": "code",
   "execution_count": 36,
   "id": "f2d3f19d",
   "metadata": {},
   "outputs": [],
   "source": [
    "tuner = kt.RandomSearch(build_model,\n",
    "                       objective=\"val_accuracy\",\n",
    "                       max_trials=5)"
   ]
  },
  {
   "cell_type": "code",
   "execution_count": 37,
   "id": "b340cb52",
   "metadata": {},
   "outputs": [
    {
     "name": "stdout",
     "output_type": "stream",
     "text": [
      "Trial 4 Complete [00h 00m 01s]\n",
      "val_accuracy: 0.4220779240131378\n",
      "\n",
      "Best val_accuracy So Far: 0.8116883039474487\n",
      "Total elapsed time: 00h 00m 03s\n",
      "INFO:tensorflow:Oracle triggered exit\n"
     ]
    }
   ],
   "source": [
    "tuner.search(X_train,y_train,epochs=5,validation_data=(X_test,y_test))"
   ]
  },
  {
   "cell_type": "code",
   "execution_count": null,
   "id": "12e26c49",
   "metadata": {},
   "outputs": [],
   "source": []
  }
 ],
 "metadata": {
  "kernelspec": {
   "display_name": "Python 3 (ipykernel)",
   "language": "python",
   "name": "python3"
  },
  "language_info": {
   "codemirror_mode": {
    "name": "ipython",
    "version": 3
   },
   "file_extension": ".py",
   "mimetype": "text/x-python",
   "name": "python",
   "nbconvert_exporter": "python",
   "pygments_lexer": "ipython3",
   "version": "3.9.12"
  }
 },
 "nbformat": 4,
 "nbformat_minor": 5
}
