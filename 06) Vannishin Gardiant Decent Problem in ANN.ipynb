{
 "cells": [
  {
   "cell_type": "code",
   "execution_count": 1,
   "id": "c84586d6",
   "metadata": {},
   "outputs": [],
   "source": [
    "import matplotlib.pyplot as plt\n",
    "import numpy as np\n",
    "import pandas as pd\n",
    "import tensorflow as tf\n",
    "import keras\n",
    "from sklearn.datasets import make_moons\n",
    "from sklearn.model_selection import train_test_split\n",
    "from keras.layers import Dense\n",
    "from keras.models import Sequential"
   ]
  },
  {
   "cell_type": "code",
   "execution_count": 2,
   "id": "004a3b0f",
   "metadata": {},
   "outputs": [],
   "source": [
    "X,y = make_moons(n_samples=250, noise=0.05, random_state=42)"
   ]
  },
  {
   "cell_type": "code",
   "execution_count": 3,
   "id": "77b85ef1",
   "metadata": {},
   "outputs": [
    {
     "data": {
      "image/png": "[encoded data removed]",
      "text/plain": [
       "<Figure size 432x288 with 1 Axes>"
      ]
     },
     "metadata": {
      "needs_background": "light"
     },
     "output_type": "display_data"
    }
   ],
   "source": [
    "plt.scatter(X[:,0],X[:,1], c=y, s=100)\n",
    "plt.show()"
   ]
  },
  {
   "cell_type": "code",
   "execution_count": 4,
   "id": "6686681b",
   "metadata": {},
   "outputs": [],
   "source": [
    "model = Sequential()\n",
    "\n",
    "model.add(Dense(10,activation='sigmoid',input_dim=2))\n",
    "model.add(Dense(10,activation='sigmoid'))\n",
    "model.add(Dense(10,activation='sigmoid'))\n",
    "model.add(Dense(10,activation='sigmoid'))\n",
    "model.add(Dense(10,activation='sigmoid'))\n",
    "model.add(Dense(10,activation='sigmoid'))\n",
    "model.add(Dense(10,activation='sigmoid'))\n",
    "model.add(Dense(10,activation='sigmoid'))\n",
    "model.add(Dense(10,activation='sigmoid'))\n",
    "model.add(Dense(10,activation='sigmoid'))\n",
    "model.add(Dense(10,activation='sigmoid'))\n",
    "model.add(Dense(1, activation='sigmoid'))"
   ]
  },
  {
   "cell_type": "code",
   "execution_count": 5,
   "id": "65987915",
   "metadata": {},
   "outputs": [],
   "source": [
    "model.compile(loss='binary_crossentropy',optimizer='adam',metrics=['accuracy'])"
   ]
  },
  {
   "cell_type": "code",
   "execution_count": 6,
   "id": "49a1c574",
   "metadata": {},
   "outputs": [
    {
     "data": {
      "text/plain": [
       "array([[-0.6008984 , -0.45176736,  0.18842489, -0.28469115,  0.04709846,\n",
       "         0.03050637, -0.59723413,  0.01583254,  0.30021745,  0.02787745],\n",
       "       [ 0.5706565 , -0.20742437, -0.2015599 ,  0.28082055, -0.13829392,\n",
       "         0.23250109, -0.5375222 , -0.64816374,  0.0086816 ,  0.102009  ]],\n",
       "      dtype=float32)"
      ]
     },
     "execution_count": 6,
     "metadata": {},
     "output_type": "execute_result"
    }
   ],
   "source": [
    "model.get_weights()[0]"
   ]
  },
  {
   "cell_type": "code",
   "execution_count": 7,
   "id": "cd959ff9",
   "metadata": {},
   "outputs": [],
   "source": [
    "old_weights = model.get_weights()[0]"
   ]
  },
  {
   "cell_type": "code",
   "execution_count": 8,
   "id": "0a6bc728",
   "metadata": {},
   "outputs": [],
   "source": [
    "X_train, X_test, y_train, y_test = train_test_split(X, y, test_size=0.20, random_state=42)"
   ]
  },
  {
   "cell_type": "code",
   "execution_count": 9,
   "id": "4a26c182",
   "metadata": {},
   "outputs": [
    {
     "name": "stdout",
     "output_type": "stream",
     "text": [
      "Epoch 1/100\n",
      "7/7 [==============================] - 1s 0s/step - loss: 0.7596 - accuracy: 0.5100\n",
      "Epoch 2/100\n",
      "7/7 [==============================] - 0s 3ms/step - loss: 0.7492 - accuracy: 0.5100\n",
      "Epoch 3/100\n",
      "7/7 [==============================] - 0s 0s/step - loss: 0.7391 - accuracy: 0.5100\n",
      "Epoch 4/100\n",
      "7/7 [==============================] - 0s 0s/step - loss: 0.7303 - accuracy: 0.5100\n",
      "Epoch 5/100\n",
      "7/7 [==============================] - 0s 2ms/step - loss: 0.7229 - accuracy: 0.5100\n",
      "Epoch 6/100\n",
      "7/7 [==============================] - 0s 0s/step - loss: 0.7171 - accuracy: 0.5100\n",
      "Epoch 7/100\n",
      "7/7 [==============================] - 0s 2ms/step - loss: 0.7123 - accuracy: 0.5100\n",
      "Epoch 8/100\n",
      "7/7 [==============================] - 0s 0s/step - loss: 0.7080 - accuracy: 0.5100\n",
      "Epoch 9/100\n",
      "7/7 [==============================] - 0s 2ms/step - loss: 0.7045 - accuracy: 0.5100\n",
      "Epoch 10/100\n",
      "7/7 [==============================] - 0s 0s/step - loss: 0.7015 - accuracy: 0.5100\n",
      "Epoch 11/100\n",
      "7/7 [==============================] - 0s 3ms/step - loss: 0.7006 - accuracy: 0.5100\n",
      "Epoch 12/100\n",
      "7/7 [==============================] - 0s 335us/step - loss: 0.6979 - accuracy: 0.5100\n",
      "Epoch 13/100\n",
      "7/7 [==============================] - 0s 0s/step - loss: 0.6971 - accuracy: 0.5100\n",
      "Epoch 14/100\n",
      "7/7 [==============================] - 0s 239us/step - loss: 0.6960 - accuracy: 0.5100\n",
      "Epoch 15/100\n",
      "7/7 [==============================] - 0s 2ms/step - loss: 0.6950 - accuracy: 0.5100\n",
      "Epoch 16/100\n",
      "7/7 [==============================] - 0s 0s/step - loss: 0.6945 - accuracy: 0.5100\n",
      "Epoch 17/100\n",
      "7/7 [==============================] - 0s 3ms/step - loss: 0.6940 - accuracy: 0.5100\n",
      "Epoch 18/100\n",
      "7/7 [==============================] - 0s 0s/step - loss: 0.6939 - accuracy: 0.5100\n",
      "Epoch 19/100\n",
      "7/7 [==============================] - 0s 3ms/step - loss: 0.6938 - accuracy: 0.5100\n",
      "Epoch 20/100\n",
      "7/7 [==============================] - 0s 0s/step - loss: 0.6933 - accuracy: 0.5100\n",
      "Epoch 21/100\n",
      "7/7 [==============================] - 0s 3ms/step - loss: 0.6934 - accuracy: 0.5100\n",
      "Epoch 22/100\n",
      "7/7 [==============================] - 0s 0s/step - loss: 0.6932 - accuracy: 0.5100\n",
      "Epoch 23/100\n",
      "7/7 [==============================] - 0s 3ms/step - loss: 0.6933 - accuracy: 0.5100\n",
      "Epoch 24/100\n",
      "7/7 [==============================] - 0s 0s/step - loss: 0.6931 - accuracy: 0.5100\n",
      "Epoch 25/100\n",
      "7/7 [==============================] - 0s 3ms/step - loss: 0.6935 - accuracy: 0.5100\n",
      "Epoch 26/100\n",
      "7/7 [==============================] - 0s 0s/step - loss: 0.6932 - accuracy: 0.5100\n",
      "Epoch 27/100\n",
      "7/7 [==============================] - 0s 416us/step - loss: 0.6934 - accuracy: 0.5100\n",
      "Epoch 28/100\n",
      "7/7 [==============================] - 0s 0s/step - loss: 0.6931 - accuracy: 0.5100\n",
      "Epoch 29/100\n",
      "7/7 [==============================] - 0s 0s/step - loss: 0.6931 - accuracy: 0.5100\n",
      "Epoch 30/100\n",
      "7/7 [==============================] - 0s 3ms/step - loss: 0.6931 - accuracy: 0.5100\n",
      "Epoch 31/100\n",
      "7/7 [==============================] - 0s 0s/step - loss: 0.6931 - accuracy: 0.5100\n",
      "Epoch 32/100\n",
      "7/7 [==============================] - 0s 3ms/step - loss: 0.6931 - accuracy: 0.5100\n",
      "Epoch 33/100\n",
      "7/7 [==============================] - 0s 0s/step - loss: 0.6931 - accuracy: 0.5100\n",
      "Epoch 34/100\n",
      "7/7 [==============================] - 0s 3ms/step - loss: 0.6930 - accuracy: 0.5100\n",
      "Epoch 35/100\n",
      "7/7 [==============================] - 0s 0s/step - loss: 0.6930 - accuracy: 0.5100\n",
      "Epoch 36/100\n",
      "7/7 [==============================] - 0s 570us/step - loss: 0.6930 - accuracy: 0.5100\n",
      "Epoch 37/100\n",
      "7/7 [==============================] - 0s 2ms/step - loss: 0.6930 - accuracy: 0.5100\n",
      "Epoch 38/100\n",
      "7/7 [==============================] - 0s 485us/step - loss: 0.6930 - accuracy: 0.5100\n",
      "Epoch 39/100\n",
      "7/7 [==============================] - 0s 2ms/step - loss: 0.6930 - accuracy: 0.5100\n",
      "Epoch 40/100\n",
      "7/7 [==============================] - 0s 0s/step - loss: 0.6931 - accuracy: 0.5100\n",
      "Epoch 41/100\n",
      "7/7 [==============================] - 0s 490us/step - loss: 0.6930 - accuracy: 0.5100\n",
      "Epoch 42/100\n",
      "7/7 [==============================] - 0s 2ms/step - loss: 0.6930 - accuracy: 0.5100\n",
      "Epoch 43/100\n",
      "7/7 [==============================] - 0s 162us/step - loss: 0.6931 - accuracy: 0.5100\n",
      "Epoch 44/100\n",
      "7/7 [==============================] - 0s 3ms/step - loss: 0.6930 - accuracy: 0.5100\n",
      "Epoch 45/100\n",
      "7/7 [==============================] - 0s 0s/step - loss: 0.6930 - accuracy: 0.5100\n",
      "Epoch 46/100\n",
      "7/7 [==============================] - 0s 3ms/step - loss: 0.6930 - accuracy: 0.5100\n",
      "Epoch 47/100\n",
      "7/7 [==============================] - 0s 0s/step - loss: 0.6931 - accuracy: 0.5100\n",
      "Epoch 48/100\n",
      "7/7 [==============================] - 0s 477us/step - loss: 0.6930 - accuracy: 0.5100\n",
      "Epoch 49/100\n",
      "7/7 [==============================] - 0s 2ms/step - loss: 0.6930 - accuracy: 0.5100\n",
      "Epoch 50/100\n",
      "7/7 [==============================] - 0s 0s/step - loss: 0.6930 - accuracy: 0.5100\n",
      "Epoch 51/100\n",
      "7/7 [==============================] - 0s 3ms/step - loss: 0.6930 - accuracy: 0.5100\n",
      "Epoch 52/100\n",
      "7/7 [==============================] - 0s 0s/step - loss: 0.6930 - accuracy: 0.5100\n",
      "Epoch 53/100\n",
      "7/7 [==============================] - 0s 3ms/step - loss: 0.6930 - accuracy: 0.5100\n",
      "Epoch 54/100\n",
      "7/7 [==============================] - 0s 0s/step - loss: 0.6930 - accuracy: 0.5100\n",
      "Epoch 55/100\n",
      "7/7 [==============================] - 0s 3ms/step - loss: 0.6930 - accuracy: 0.5100\n",
      "Epoch 56/100\n",
      "7/7 [==============================] - 0s 0s/step - loss: 0.6930 - accuracy: 0.5100\n",
      "Epoch 57/100\n",
      "7/7 [==============================] - 0s 591us/step - loss: 0.6931 - accuracy: 0.5100\n",
      "Epoch 58/100\n",
      "7/7 [==============================] - 0s 0s/step - loss: 0.6931 - accuracy: 0.5100\n",
      "Epoch 59/100\n",
      "7/7 [==============================] - 0s 488us/step - loss: 0.6931 - accuracy: 0.5100\n",
      "Epoch 60/100\n",
      "7/7 [==============================] - 0s 2ms/step - loss: 0.6931 - accuracy: 0.5100\n",
      "Epoch 61/100\n",
      "7/7 [==============================] - 0s 81us/step - loss: 0.6931 - accuracy: 0.5100\n",
      "Epoch 62/100\n",
      "7/7 [==============================] - 0s 3ms/step - loss: 0.6930 - accuracy: 0.5100\n",
      "Epoch 63/100\n",
      "7/7 [==============================] - 0s 0s/step - loss: 0.6931 - accuracy: 0.5100\n",
      "Epoch 64/100\n",
      "7/7 [==============================] - 0s 3ms/step - loss: 0.6929 - accuracy: 0.5100\n",
      "Epoch 65/100\n",
      "7/7 [==============================] - 0s 0s/step - loss: 0.6930 - accuracy: 0.5100\n",
      "Epoch 66/100\n",
      "7/7 [==============================] - 0s 416us/step - loss: 0.6930 - accuracy: 0.5100\n",
      "Epoch 67/100\n",
      "7/7 [==============================] - 0s 0s/step - loss: 0.6930 - accuracy: 0.5100\n",
      "Epoch 68/100\n",
      "7/7 [==============================] - 0s 183us/step - loss: 0.6930 - accuracy: 0.5100\n",
      "Epoch 69/100\n",
      "7/7 [==============================] - 0s 2ms/step - loss: 0.6931 - accuracy: 0.5100\n",
      "Epoch 70/100\n",
      "7/7 [==============================] - 0s 1ms/step - loss: 0.6930 - accuracy: 0.5100\n",
      "Epoch 71/100\n",
      "7/7 [==============================] - 0s 1ms/step - loss: 0.6930 - accuracy: 0.5100\n",
      "Epoch 72/100\n",
      "7/7 [==============================] - 0s 0s/step - loss: 0.6930 - accuracy: 0.5100\n",
      "Epoch 73/100\n",
      "7/7 [==============================] - 0s 495us/step - loss: 0.6931 - accuracy: 0.5100\n",
      "Epoch 74/100\n",
      "7/7 [==============================] - 0s 3ms/step - loss: 0.6931 - accuracy: 0.5100\n",
      "Epoch 75/100\n",
      "7/7 [==============================] - 0s 0s/step - loss: 0.6930 - accuracy: 0.5100\n",
      "Epoch 76/100\n",
      "7/7 [==============================] - 0s 3ms/step - loss: 0.6930 - accuracy: 0.5100\n",
      "Epoch 77/100\n",
      "7/7 [==============================] - 0s 0s/step - loss: 0.6931 - accuracy: 0.5100\n",
      "Epoch 78/100\n",
      "7/7 [==============================] - 0s 371us/step - loss: 0.6931 - accuracy: 0.5100\n",
      "Epoch 79/100\n",
      "7/7 [==============================] - 0s 2ms/step - loss: 0.6930 - accuracy: 0.5100\n",
      "Epoch 80/100\n",
      "7/7 [==============================] - 0s 0s/step - loss: 0.6930 - accuracy: 0.5100\n",
      "Epoch 81/100\n",
      "7/7 [==============================] - 0s 3ms/step - loss: 0.6931 - accuracy: 0.5100\n",
      "Epoch 82/100\n",
      "7/7 [==============================] - 0s 0s/step - loss: 0.6931 - accuracy: 0.5100\n",
      "Epoch 83/100\n",
      "7/7 [==============================] - 0s 3ms/step - loss: 0.6931 - accuracy: 0.5100\n",
      "Epoch 84/100\n"
     ]
    },
    {
     "name": "stdout",
     "output_type": "stream",
     "text": [
      "7/7 [==============================] - 0s 0s/step - loss: 0.6931 - accuracy: 0.5100\n",
      "Epoch 85/100\n",
      "7/7 [==============================] - 0s 530us/step - loss: 0.6930 - accuracy: 0.5100\n",
      "Epoch 86/100\n",
      "7/7 [==============================] - 0s 2ms/step - loss: 0.6930 - accuracy: 0.5100\n",
      "Epoch 87/100\n",
      "7/7 [==============================] - 0s 0s/step - loss: 0.6932 - accuracy: 0.5100\n",
      "Epoch 88/100\n",
      "7/7 [==============================] - 0s 3ms/step - loss: 0.6932 - accuracy: 0.5100\n",
      "Epoch 89/100\n",
      "7/7 [==============================] - 0s 0s/step - loss: 0.6931 - accuracy: 0.5100\n",
      "Epoch 90/100\n",
      "7/7 [==============================] - 0s 3ms/step - loss: 0.6936 - accuracy: 0.4000\n",
      "Epoch 91/100\n",
      "7/7 [==============================] - 0s 0s/step - loss: 0.6932 - accuracy: 0.4900\n",
      "Epoch 92/100\n",
      "7/7 [==============================] - 0s 475us/step - loss: 0.6930 - accuracy: 0.5100\n",
      "Epoch 93/100\n",
      "7/7 [==============================] - 0s 2ms/step - loss: 0.6931 - accuracy: 0.5100\n",
      "Epoch 94/100\n",
      "7/7 [==============================] - 0s 0s/step - loss: 0.6930 - accuracy: 0.5100\n",
      "Epoch 95/100\n",
      "7/7 [==============================] - 0s 3ms/step - loss: 0.6930 - accuracy: 0.5100\n",
      "Epoch 96/100\n",
      "7/7 [==============================] - 0s 0s/step - loss: 0.6931 - accuracy: 0.5100\n",
      "Epoch 97/100\n",
      "7/7 [==============================] - 0s 1ms/step - loss: 0.6932 - accuracy: 0.5100\n",
      "Epoch 98/100\n",
      "7/7 [==============================] - 0s 1ms/step - loss: 0.6930 - accuracy: 0.5100\n",
      "Epoch 99/100\n",
      "7/7 [==============================] - 0s 1ms/step - loss: 0.6931 - accuracy: 0.5100\n",
      "Epoch 100/100\n",
      "7/7 [==============================] - 0s 1ms/step - loss: 0.6931 - accuracy: 0.5100\n"
     ]
    },
    {
     "data": {
      "text/plain": [
       "<keras.callbacks.History at 0x20ef7cf9cd0>"
      ]
     },
     "execution_count": 9,
     "metadata": {},
     "output_type": "execute_result"
    }
   ],
   "source": [
    "model.fit(X_train, y_train, epochs = 100)"
   ]
  },
  {
   "cell_type": "code",
   "execution_count": 10,
   "id": "37a92d13",
   "metadata": {},
   "outputs": [],
   "source": [
    "new_weights = model.get_weights()[0]"
   ]
  },
  {
   "cell_type": "code",
   "execution_count": 11,
   "id": "e385e2b8",
   "metadata": {},
   "outputs": [
    {
     "data": {
      "text/plain": [
       "0.001"
      ]
     },
     "execution_count": 11,
     "metadata": {},
     "output_type": "execute_result"
    }
   ],
   "source": [
    "model.optimizer.get_config()[\"learning_rate\"]"
   ]
  },
  {
   "cell_type": "code",
   "execution_count": 12,
   "id": "0300bc42",
   "metadata": {},
   "outputs": [],
   "source": [
    "gradient = (old_weights - new_weights)/ 0.001\n",
    "percent_change = abs(100*(old_weights - new_weights)/ old_weights)"
   ]
  },
  {
   "cell_type": "code",
   "execution_count": 13,
   "id": "4974cc90",
   "metadata": {},
   "outputs": [
    {
     "data": {
      "text/plain": [
       "array([[ 29.37442  ,   2.5841591, -15.010178 ,  71.10202  ,   6.778903 ,\n",
       "         82.01734  , -13.971089 , -35.47064  ,  -7.0724783,  54.243732 ],\n",
       "       [-25.707005 ,  -2.682328 ,  11.614695 , -56.432037 ,  -5.6480465,\n",
       "        -61.9387   ,  12.142241 ,  25.49213  ,   5.9360433, -40.31284  ]],\n",
       "      dtype=float32)"
      ]
     },
     "execution_count": 13,
     "metadata": {},
     "output_type": "execute_result"
    }
   ],
   "source": [
    "gradient"
   ]
  },
  {
   "cell_type": "code",
   "execution_count": 14,
   "id": "7ae20c71",
   "metadata": {},
   "outputs": [
    {
     "data": {
      "text/plain": [
       "array([[  4.8884172,   0.5720111,   7.9661336,  24.975143 ,  14.393046 ,\n",
       "        268.85315  ,   2.3392987, 224.03625  ,   2.3557854, 194.57925  ],\n",
       "       [  4.5048127,   1.2931596,   5.7624035,  20.09541  ,   4.084089 ,\n",
       "         26.640179 ,   2.2589283,   3.9329772,  68.37503  ,  39.51891  ]],\n",
       "      dtype=float32)"
      ]
     },
     "execution_count": 14,
     "metadata": {},
     "output_type": "execute_result"
    }
   ],
   "source": [
    "percent_change"
   ]
  },
  {
   "cell_type": "code",
   "execution_count": 15,
   "id": "47c1615d",
   "metadata": {},
   "outputs": [
    {
     "data": {
      "text/plain": [
       "array([[-0.6008984 , -0.45176736,  0.18842489, -0.28469115,  0.04709846,\n",
       "         0.03050637, -0.59723413,  0.01583254,  0.30021745,  0.02787745],\n",
       "       [ 0.5706565 , -0.20742437, -0.2015599 ,  0.28082055, -0.13829392,\n",
       "         0.23250109, -0.5375222 , -0.64816374,  0.0086816 ,  0.102009  ]],\n",
       "      dtype=float32)"
      ]
     },
     "execution_count": 15,
     "metadata": {},
     "output_type": "execute_result"
    }
   ],
   "source": [
    "old_weights"
   ]
  },
  {
   "cell_type": "code",
   "execution_count": 16,
   "id": "4e955c9d",
   "metadata": {},
   "outputs": [
    {
     "data": {
      "text/plain": [
       "array([[-0.6302728 , -0.4543515 ,  0.20343506, -0.35579318,  0.04031955,\n",
       "        -0.05151097, -0.58326304,  0.05130318,  0.30728993, -0.02636629],\n",
       "       [ 0.5963635 , -0.20474204, -0.2131746 ,  0.3372526 , -0.13264588,\n",
       "         0.2944398 , -0.54966444, -0.67365587,  0.00274555,  0.14232184]],\n",
       "      dtype=float32)"
      ]
     },
     "execution_count": 16,
     "metadata": {},
     "output_type": "execute_result"
    }
   ],
   "source": [
    "new_weights"
   ]
  },
  {
   "cell_type": "code",
   "execution_count": 17,
   "id": "d4703384",
   "metadata": {},
   "outputs": [
    {
     "data": {
      "text/plain": [
       "array([[-0.6302728 , -0.4543515 ,  0.20343506, -0.35579318,  0.04031955,\n",
       "        -0.05151097, -0.58326304,  0.05130318,  0.30728993, -0.02636629],\n",
       "       [ 0.5963635 , -0.20474204, -0.2131746 ,  0.3372526 , -0.13264588,\n",
       "         0.2944398 , -0.54966444, -0.67365587,  0.00274555,  0.14232184]],\n",
       "      dtype=float32)"
      ]
     },
     "execution_count": 17,
     "metadata": {},
     "output_type": "execute_result"
    }
   ],
   "source": [
    "new_weights"
   ]
  },
  {
   "cell_type": "code",
   "execution_count": 18,
   "id": "d84f328e",
   "metadata": {},
   "outputs": [],
   "source": [
    "model = Sequential()\n",
    "\n",
    "model.add(Dense(10,activation='relu',input_dim=2))\n",
    "model.add(Dense(10,activation='relu'))\n",
    "model.add(Dense(10,activation='relu'))\n",
    "model.add(Dense(10,activation='relu'))\n",
    "model.add(Dense(10,activation='relu'))\n",
    "model.add(Dense(10,activation='relu'))\n",
    "model.add(Dense(10,activation='relu'))\n",
    "model.add(Dense(10,activation='relu'))\n",
    "model.add(Dense(10,activation='relu'))\n",
    "model.add(Dense(10,activation='relu'))\n",
    "model.add(Dense(10,activation='relu'))\n",
    "model.add(Dense(1, activation='sigmoid'))"
   ]
  },
  {
   "cell_type": "code",
   "execution_count": 19,
   "id": "f2775464",
   "metadata": {},
   "outputs": [],
   "source": [
    "model.compile(loss='binary_crossentropy',optimizer='adam',metrics=['accuracy'])"
   ]
  },
  {
   "cell_type": "code",
   "execution_count": 20,
   "id": "904a9caa",
   "metadata": {},
   "outputs": [],
   "source": [
    "old_weights  = model.get_weights()[0]"
   ]
  },
  {
   "cell_type": "code",
   "execution_count": 21,
   "id": "36850ba6",
   "metadata": {},
   "outputs": [],
   "source": [
    "X_train,X_test,y_train,y_test = train_test_split(X,y,test_size=0.20,random_state=42)"
   ]
  },
  {
   "cell_type": "code",
   "execution_count": 22,
   "id": "693dc632",
   "metadata": {},
   "outputs": [
    {
     "name": "stdout",
     "output_type": "stream",
     "text": [
      "Epoch 1/100\n",
      "7/7 [==============================] - 1s 0s/step - loss: 0.6924 - accuracy: 0.6400\n",
      "Epoch 2/100\n",
      "7/7 [==============================] - 0s 3ms/step - loss: 0.6900 - accuracy: 0.7150\n",
      "Epoch 3/100\n",
      "7/7 [==============================] - 0s 0s/step - loss: 0.6869 - accuracy: 0.6400\n",
      "Epoch 4/100\n",
      "7/7 [==============================] - 0s 3ms/step - loss: 0.6813 - accuracy: 0.5650\n",
      "Epoch 5/100\n",
      "7/7 [==============================] - 0s 0s/step - loss: 0.6718 - accuracy: 0.6650\n",
      "Epoch 6/100\n",
      "7/7 [==============================] - 0s 3ms/step - loss: 0.6578 - accuracy: 0.6450\n",
      "Epoch 7/100\n",
      "7/7 [==============================] - 0s 0s/step - loss: 0.6339 - accuracy: 0.6950\n",
      "Epoch 8/100\n",
      "7/7 [==============================] - 0s 350us/step - loss: 0.6025 - accuracy: 0.7350\n",
      "Epoch 9/100\n",
      "7/7 [==============================] - 0s 0s/step - loss: 0.5650 - accuracy: 0.7500\n",
      "Epoch 10/100\n",
      "7/7 [==============================] - 0s 3ms/step - loss: 0.5288 - accuracy: 0.8100\n",
      "Epoch 11/100\n",
      "7/7 [==============================] - 0s 0s/step - loss: 0.4931 - accuracy: 0.8300\n",
      "Epoch 12/100\n",
      "7/7 [==============================] - 0s 3ms/step - loss: 0.4658 - accuracy: 0.8450\n",
      "Epoch 13/100\n",
      "7/7 [==============================] - 0s 0s/step - loss: 0.4392 - accuracy: 0.8850\n",
      "Epoch 14/100\n",
      "7/7 [==============================] - 0s 3ms/step - loss: 0.4115 - accuracy: 0.9100\n",
      "Epoch 15/100\n",
      "7/7 [==============================] - 0s 0s/step - loss: 0.3839 - accuracy: 0.9150\n",
      "Epoch 16/100\n",
      "7/7 [==============================] - 0s 3ms/step - loss: 0.3548 - accuracy: 0.9350\n",
      "Epoch 17/100\n",
      "7/7 [==============================] - 0s 3ms/step - loss: 0.3265 - accuracy: 0.9550\n",
      "Epoch 18/100\n",
      "7/7 [==============================] - 0s 1ms/step - loss: 0.2973 - accuracy: 0.9700\n",
      "Epoch 19/100\n",
      "7/7 [==============================] - 0s 628us/step - loss: 0.2646 - accuracy: 0.9750\n",
      "Epoch 20/100\n",
      "7/7 [==============================] - 0s 0s/step - loss: 0.2376 - accuracy: 0.9800\n",
      "Epoch 21/100\n",
      "7/7 [==============================] - 0s 436us/step - loss: 0.1988 - accuracy: 0.9850\n",
      "Epoch 22/100\n",
      "7/7 [==============================] - 0s 2ms/step - loss: 0.1598 - accuracy: 0.9950\n",
      "Epoch 23/100\n",
      "7/7 [==============================] - 0s 0s/step - loss: 0.1263 - accuracy: 1.0000\n",
      "Epoch 24/100\n",
      "7/7 [==============================] - 0s 3ms/step - loss: 0.0943 - accuracy: 1.0000\n",
      "Epoch 25/100\n",
      "7/7 [==============================] - 0s 0s/step - loss: 0.0686 - accuracy: 1.0000\n",
      "Epoch 26/100\n",
      "7/7 [==============================] - 0s 3ms/step - loss: 0.0479 - accuracy: 1.0000\n",
      "Epoch 27/100\n",
      "7/7 [==============================] - 0s 0s/step - loss: 0.0322 - accuracy: 1.0000\n",
      "Epoch 28/100\n",
      "7/7 [==============================] - 0s 3ms/step - loss: 0.0222 - accuracy: 1.0000\n",
      "Epoch 29/100\n",
      "7/7 [==============================] - 0s 0s/step - loss: 0.0147 - accuracy: 1.0000\n",
      "Epoch 30/100\n",
      "7/7 [==============================] - 0s 3ms/step - loss: 0.0105 - accuracy: 1.0000\n",
      "Epoch 31/100\n",
      "7/7 [==============================] - 0s 2ms/step - loss: 0.0077 - accuracy: 1.0000\n",
      "Epoch 32/100\n",
      "7/7 [==============================] - 0s 2ms/step - loss: 0.0060 - accuracy: 1.0000\n",
      "Epoch 33/100\n",
      "7/7 [==============================] - 0s 2ms/step - loss: 0.0047 - accuracy: 1.0000\n",
      "Epoch 34/100\n",
      "7/7 [==============================] - 0s 2ms/step - loss: 0.0036 - accuracy: 1.0000\n",
      "Epoch 35/100\n",
      "7/7 [==============================] - 0s 1ms/step - loss: 0.0029 - accuracy: 1.0000\n",
      "Epoch 36/100\n",
      "7/7 [==============================] - 0s 1ms/step - loss: 0.0024 - accuracy: 1.0000\n",
      "Epoch 37/100\n",
      "7/7 [==============================] - 0s 1ms/step - loss: 0.0020 - accuracy: 1.0000\n",
      "Epoch 38/100\n",
      "7/7 [==============================] - 0s 1ms/step - loss: 0.0016 - accuracy: 1.0000\n",
      "Epoch 39/100\n",
      "7/7 [==============================] - 0s 760us/step - loss: 0.0014 - accuracy: 1.0000\n",
      "Epoch 40/100\n",
      "7/7 [==============================] - 0s 0s/step - loss: 0.0012 - accuracy: 1.0000\n",
      "Epoch 41/100\n",
      "7/7 [==============================] - 0s 3ms/step - loss: 0.0010 - accuracy: 1.0000\n",
      "Epoch 42/100\n",
      "7/7 [==============================] - 0s 1ms/step - loss: 8.8472e-04 - accuracy: 1.0000\n",
      "Epoch 43/100\n",
      "7/7 [==============================] - 0s 1ms/step - loss: 7.8234e-04 - accuracy: 1.0000\n",
      "Epoch 44/100\n",
      "7/7 [==============================] - 0s 1ms/step - loss: 6.9649e-04 - accuracy: 1.0000\n",
      "Epoch 45/100\n",
      "7/7 [==============================] - 0s 948us/step - loss: 6.2330e-04 - accuracy: 1.0000\n",
      "Epoch 46/100\n",
      "7/7 [==============================] - 0s 0s/step - loss: 5.6111e-04 - accuracy: 1.0000\n",
      "Epoch 47/100\n",
      "7/7 [==============================] - 0s 3ms/step - loss: 5.0760e-04 - accuracy: 1.0000\n",
      "Epoch 48/100\n",
      "7/7 [==============================] - 0s 0s/step - loss: 4.6356e-04 - accuracy: 1.0000\n",
      "Epoch 49/100\n",
      "7/7 [==============================] - 0s 3ms/step - loss: 4.2274e-04 - accuracy: 1.0000\n",
      "Epoch 50/100\n",
      "7/7 [==============================] - 0s 1ms/step - loss: 3.8796e-04 - accuracy: 1.0000\n",
      "Epoch 51/100\n",
      "7/7 [==============================] - 0s 1000us/step - loss: 3.5810e-04 - accuracy: 1.0000\n",
      "Epoch 52/100\n",
      "7/7 [==============================] - 0s 1ms/step - loss: 3.3107e-04 - accuracy: 1.0000\n",
      "Epoch 53/100\n",
      "7/7 [==============================] - 0s 833us/step - loss: 3.0644e-04 - accuracy: 1.0000\n",
      "Epoch 54/100\n",
      "7/7 [==============================] - 0s 0s/step - loss: 2.8637e-04 - accuracy: 1.0000\n",
      "Epoch 55/100\n",
      "7/7 [==============================] - 0s 2ms/step - loss: 2.6568e-04 - accuracy: 1.0000\n",
      "Epoch 56/100\n",
      "7/7 [==============================] - 0s 0s/step - loss: 2.4895e-04 - accuracy: 1.0000\n",
      "Epoch 57/100\n",
      "7/7 [==============================] - 0s 3ms/step - loss: 2.3305e-04 - accuracy: 1.0000\n",
      "Epoch 58/100\n",
      "7/7 [==============================] - 0s 0s/step - loss: 2.1786e-04 - accuracy: 1.0000\n",
      "Epoch 59/100\n",
      "7/7 [==============================] - 0s 3ms/step - loss: 2.0453e-04 - accuracy: 1.0000\n",
      "Epoch 60/100\n",
      "7/7 [==============================] - 0s 0s/step - loss: 1.9195e-04 - accuracy: 1.0000\n",
      "Epoch 61/100\n",
      "7/7 [==============================] - 0s 3ms/step - loss: 1.8023e-04 - accuracy: 1.0000\n",
      "Epoch 62/100\n",
      "7/7 [==============================] - 0s 0s/step - loss: 1.6982e-04 - accuracy: 1.0000\n",
      "Epoch 63/100\n",
      "7/7 [==============================] - 0s 3ms/step - loss: 1.6025e-04 - accuracy: 1.0000\n",
      "Epoch 64/100\n",
      "7/7 [==============================] - 0s 0s/step - loss: 1.5115e-04 - accuracy: 1.0000\n",
      "Epoch 65/100\n",
      "7/7 [==============================] - 0s 3ms/step - loss: 1.4327e-04 - accuracy: 1.0000\n",
      "Epoch 66/100\n",
      "7/7 [==============================] - 0s 2ms/step - loss: 1.3528e-04 - accuracy: 1.0000\n",
      "Epoch 67/100\n",
      "7/7 [==============================] - 0s 1ms/step - loss: 1.2816e-04 - accuracy: 1.0000\n",
      "Epoch 68/100\n",
      "7/7 [==============================] - 0s 0s/step - loss: 1.2181e-04 - accuracy: 1.0000\n",
      "Epoch 69/100\n",
      "7/7 [==============================] - 0s 0s/step - loss: 1.1510e-04 - accuracy: 1.0000\n",
      "Epoch 70/100\n",
      "7/7 [==============================] - 0s 1ms/step - loss: 1.0964e-04 - accuracy: 1.0000\n",
      "Epoch 71/100\n",
      "7/7 [==============================] - 0s 0s/step - loss: 1.0425e-04 - accuracy: 1.0000\n",
      "Epoch 72/100\n",
      "7/7 [==============================] - 0s 3ms/step - loss: 9.9448e-05 - accuracy: 1.0000\n",
      "Epoch 73/100\n",
      "7/7 [==============================] - 0s 3ms/step - loss: 9.5102e-05 - accuracy: 1.0000\n",
      "Epoch 74/100\n",
      "7/7 [==============================] - 0s 3ms/step - loss: 9.1276e-05 - accuracy: 1.0000\n",
      "Epoch 75/100\n",
      "7/7 [==============================] - 0s 0s/step - loss: 8.7373e-05 - accuracy: 1.0000\n",
      "Epoch 76/100\n",
      "7/7 [==============================] - 0s 3ms/step - loss: 8.3558e-05 - accuracy: 1.0000\n",
      "Epoch 77/100\n",
      "7/7 [==============================] - 0s 0s/step - loss: 8.0173e-05 - accuracy: 1.0000\n",
      "Epoch 78/100\n",
      "7/7 [==============================] - 0s 3ms/step - loss: 7.7034e-05 - accuracy: 1.0000\n",
      "Epoch 79/100\n",
      "7/7 [==============================] - 0s 0s/step - loss: 7.3919e-05 - accuracy: 1.0000\n",
      "Epoch 80/100\n",
      "7/7 [==============================] - 0s 3ms/step - loss: 7.1200e-05 - accuracy: 1.0000\n",
      "Epoch 81/100\n",
      "7/7 [==============================] - 0s 0s/step - loss: 6.8702e-05 - accuracy: 1.0000\n",
      "Epoch 82/100\n",
      "7/7 [==============================] - 0s 3ms/step - loss: 6.6247e-05 - accuracy: 1.0000\n",
      "Epoch 83/100\n"
     ]
    },
    {
     "name": "stdout",
     "output_type": "stream",
     "text": [
      "7/7 [==============================] - 0s 0s/step - loss: 6.3941e-05 - accuracy: 1.0000\n",
      "Epoch 84/100\n",
      "7/7 [==============================] - 0s 0s/step - loss: 6.1838e-05 - accuracy: 1.0000\n",
      "Epoch 85/100\n",
      "7/7 [==============================] - 0s 0s/step - loss: 5.9713e-05 - accuracy: 1.0000\n",
      "Epoch 86/100\n",
      "7/7 [==============================] - 0s 0s/step - loss: 5.7519e-05 - accuracy: 1.0000\n",
      "Epoch 87/100\n",
      "7/7 [==============================] - 0s 0s/step - loss: 5.5563e-05 - accuracy: 1.0000\n",
      "Epoch 88/100\n",
      "7/7 [==============================] - 0s 1ms/step - loss: 5.3549e-05 - accuracy: 1.0000\n",
      "Epoch 89/100\n",
      "7/7 [==============================] - 0s 0s/step - loss: 5.1563e-05 - accuracy: 1.0000\n",
      "Epoch 90/100\n",
      "7/7 [==============================] - 0s 1ms/step - loss: 4.9736e-05 - accuracy: 1.0000\n",
      "Epoch 91/100\n",
      "7/7 [==============================] - 0s 1ms/step - loss: 4.8053e-05 - accuracy: 1.0000\n",
      "Epoch 92/100\n",
      "7/7 [==============================] - 0s 1ms/step - loss: 4.6558e-05 - accuracy: 1.0000\n",
      "Epoch 93/100\n",
      "7/7 [==============================] - 0s 1000us/step - loss: 4.4943e-05 - accuracy: 1.0000\n",
      "Epoch 94/100\n",
      "7/7 [==============================] - 0s 265us/step - loss: 4.3419e-05 - accuracy: 1.0000\n",
      "Epoch 95/100\n",
      "7/7 [==============================] - 0s 0s/step - loss: 4.2120e-05 - accuracy: 1.0000\n",
      "Epoch 96/100\n",
      "7/7 [==============================] - 0s 84us/step - loss: 4.0959e-05 - accuracy: 1.0000\n",
      "Epoch 97/100\n",
      "7/7 [==============================] - 0s 0s/step - loss: 3.9641e-05 - accuracy: 1.0000\n",
      "Epoch 98/100\n",
      "7/7 [==============================] - 0s 0s/step - loss: 3.8460e-05 - accuracy: 1.0000\n",
      "Epoch 99/100\n",
      "7/7 [==============================] - 0s 0s/step - loss: 3.7130e-05 - accuracy: 1.0000\n",
      "Epoch 100/100\n",
      "7/7 [==============================] - 0s 0s/step - loss: 3.6060e-05 - accuracy: 1.0000\n"
     ]
    },
    {
     "data": {
      "text/plain": [
       "<keras.callbacks.History at 0x20efc93e520>"
      ]
     },
     "execution_count": 22,
     "metadata": {},
     "output_type": "execute_result"
    }
   ],
   "source": [
    "model.fit(X_train,y_train,epochs=100)"
   ]
  },
  {
   "cell_type": "code",
   "execution_count": 23,
   "id": "f1b2049d",
   "metadata": {},
   "outputs": [],
   "source": [
    "new_weights = model.get_weights()[0]"
   ]
  },
  {
   "cell_type": "code",
   "execution_count": 24,
   "id": "a69007b7",
   "metadata": {},
   "outputs": [
    {
     "data": {
      "text/plain": [
       "0.001"
      ]
     },
     "execution_count": 24,
     "metadata": {},
     "output_type": "execute_result"
    }
   ],
   "source": [
    "model.optimizer.get_config()[\"learning_rate\"]"
   ]
  },
  {
   "cell_type": "code",
   "execution_count": 25,
   "id": "f82a5950",
   "metadata": {},
   "outputs": [],
   "source": [
    "gradient = (old_weights - new_weights)/ 0.001\n",
    "percent_change = abs(100*(old_weights - new_weights)/ old_weights)"
   ]
  },
  {
   "cell_type": "code",
   "execution_count": 28,
   "id": "a5942dad",
   "metadata": {},
   "outputs": [
    {
     "data": {
      "text/plain": [
       "array([[ -59.319435,  133.79498 ,   95.1611  ,   26.69756 ,   26.27986 ,\n",
       "         116.66744 ,    8.903384,  -89.11511 , -106.39714 ,  138.39978 ],\n",
       "       [   9.368121,  -65.56452 ,  -56.216908,  -89.24827 ,   27.530281,\n",
       "        -111.45019 ,   57.54411 ,   87.82678 , -100.82683 ,  -61.37925 ]],\n",
       "      dtype=float32)"
      ]
     },
     "execution_count": 28,
     "metadata": {},
     "output_type": "execute_result"
    }
   ],
   "source": [
    "gradient"
   ]
  },
  {
   "cell_type": "code",
   "execution_count": 29,
   "id": "41f2a540",
   "metadata": {},
   "outputs": [
    {
     "data": {
      "text/plain": [
       "array([[ 27.214264 , 361.03522  ,  44.093018 ,  17.065283 ,  96.32738  ,\n",
       "         35.56171  ,   2.1430538,  20.542778 ,  54.71909  ,  20.308172 ],\n",
       "       [  1.5298928,  75.234665 ,  19.798944 ,  23.880459 ,   9.864953 ,\n",
       "        140.15663  ,  79.29707  ,  24.09733  ,  32.663475 ,  40.59167  ]],\n",
       "      dtype=float32)"
      ]
     },
     "execution_count": 29,
     "metadata": {},
     "output_type": "execute_result"
    }
   ],
   "source": [
    "percent_change"
   ]
  },
  {
   "cell_type": "code",
   "execution_count": 30,
   "id": "e1bcf6d8",
   "metadata": {},
   "outputs": [
    {
     "data": {
      "text/plain": [
       "array([[-0.21797186, -0.03705871, -0.215819  ,  0.15644372,  0.02728182,\n",
       "        -0.3280704 ,  0.41545314, -0.43380266, -0.19444245, -0.681498  ],\n",
       "       [-0.6123384 , -0.0871467 , -0.28393894,  0.3737293 , -0.27907163,\n",
       "         0.07951832, -0.07256776, -0.36446688,  0.3086837 , -0.15121144]],\n",
       "      dtype=float32)"
      ]
     },
     "execution_count": 30,
     "metadata": {},
     "output_type": "execute_result"
    }
   ],
   "source": [
    "old_weights"
   ]
  },
  {
   "cell_type": "code",
   "execution_count": 31,
   "id": "e7c7f09f",
   "metadata": {},
   "outputs": [
    {
     "data": {
      "text/plain": [
       "array([[-0.15865242, -0.1708537 , -0.3109801 ,  0.12974615,  0.00100196,\n",
       "        -0.44473785,  0.40654975, -0.34468755, -0.08804531, -0.8198978 ],\n",
       "       [-0.62170655, -0.02158217, -0.22772203,  0.46297756, -0.3066019 ,\n",
       "         0.19096851, -0.13011187, -0.45229366,  0.40951052, -0.08983219]],\n",
       "      dtype=float32)"
      ]
     },
     "execution_count": 31,
     "metadata": {},
     "output_type": "execute_result"
    }
   ],
   "source": [
    "new_weights"
   ]
  },
  {
   "cell_type": "code",
   "execution_count": null,
   "id": "c4f460c8",
   "metadata": {},
   "outputs": [],
   "source": []
  }
 ],
 "metadata": {
  "kernelspec": {
   "display_name": "Python 3 (ipykernel)",
   "language": "python",
   "name": "python3"
  },
  "language_info": {
   "codemirror_mode": {
    "name": "ipython",
    "version": 3
   },
   "file_extension": ".py",
   "mimetype": "text/x-python",
   "name": "python",
   "nbconvert_exporter": "python",
   "pygments_lexer": "ipython3",
   "version": "3.9.12"
  }
 },
 "nbformat": 4,
 "nbformat_minor": 5
}
